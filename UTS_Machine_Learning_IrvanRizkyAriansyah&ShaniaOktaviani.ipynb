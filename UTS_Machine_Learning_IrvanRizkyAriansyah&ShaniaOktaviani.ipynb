{
  "nbformat": 4,
  "nbformat_minor": 0,
  "metadata": {
    "colab": {
      "provenance": [],
      "include_colab_link": true
    },
    "kernelspec": {
      "name": "python3",
      "display_name": "Python 3"
    },
    "language_info": {
      "name": "python"
    }
  },
  "cells": [
    {
      "cell_type": "markdown",
      "metadata": {
        "id": "view-in-github",
        "colab_type": "text"
      },
      "source": [
        "<a href=\"https://colab.research.google.com/github/IrvanRizkyAriansyah/Machine_Learning/blob/main/UTS_Machine_Learning_IrvanRizkyAriansyah%26ShaniaOktaviani.ipynb\" target=\"_parent\"><img src=\"https://colab.research.google.com/assets/colab-badge.svg\" alt=\"Open In Colab\"/></a>"
      ]
    },
    {
      "cell_type": "markdown",
      "source": [
        "1. Mengidentifikasi nama dan jenis atribut dari seluruh atribut prediktor dan atribut label yang terdapat pada dataset tersebut. Jika ada atribut yang berjenis kategorik, sebutkan nilai unik yang terdapat pada atribut tersebut"
      ],
      "metadata": {
        "id": "Kpn0gwoL54-f"
      }
    },
    {
      "cell_type": "code",
      "source": [
        "import pandas as pd"
      ],
      "metadata": {
        "id": "ItQ3OlWl6cbJ"
      },
      "execution_count": null,
      "outputs": []
    },
    {
      "cell_type": "code",
      "execution_count": null,
      "metadata": {
        "id": "r-6cM4lT5E_q",
        "colab": {
          "base_uri": "https://localhost:8080/"
        },
        "outputId": "fc284a1a-9a8f-43ea-f036-2291bd1fb5e8"
      },
      "outputs": [
        {
          "output_type": "stream",
          "name": "stdout",
          "text": [
            "Atribut Prediktor:\n",
            "Nama: battery_power, Jenis: float64\n",
            "Nama: blue, Jenis: int64\n",
            "Nama: clock_speed, Jenis: float64\n",
            "Nama: dual_sim, Jenis: int64\n",
            "Nama: fc, Jenis: int64\n",
            "Nama: four_g, Jenis: int64\n",
            "Nama: int_memory, Jenis: float64\n",
            "Nama: m_dep, Jenis: float64\n",
            "Nama: mobile_wt, Jenis: float64\n",
            "Nama: n_cores, Jenis: int64\n",
            "Nama: pc, Jenis: int64\n",
            "Nama: px_height, Jenis: int64\n",
            "Nama: px_width, Jenis: int64\n",
            "Nama: ram, Jenis: float64\n",
            "Nama: sc_h, Jenis: int64\n",
            "Nama: sc_w, Jenis: int64\n",
            "Nama: talk_time, Jenis: int64\n",
            "Nama: three_g, Jenis: int64\n",
            "Nama: touch_screen, Jenis: int64\n",
            "Nama: wifi, Jenis: int64\n",
            "\n",
            "Atribut Label:\n",
            "Nama: price_range, Jenis: int64\n",
            "\n",
            "\n",
            "       battery_power       blue  clock_speed     dual_sim           fc  \\\n",
            "count    1990.000000  2000.0000  2000.000000  2000.000000  2000.000000   \n",
            "mean     1237.867839     0.4950     1.522250     0.509500     4.309500   \n",
            "std       439.676025     0.5001     0.816004     0.500035     4.341444   \n",
            "min       501.000000     0.0000     0.500000     0.000000     0.000000   \n",
            "25%       850.250000     0.0000     0.700000     0.000000     1.000000   \n",
            "50%      1225.000000     0.0000     1.500000     1.000000     3.000000   \n",
            "75%      1615.000000     1.0000     2.200000     1.000000     7.000000   \n",
            "max      1998.000000     1.0000     3.000000     1.000000    19.000000   \n",
            "\n",
            "            four_g   int_memory        m_dep    mobile_wt      n_cores  ...  \\\n",
            "count  2000.000000  1990.000000  2000.000000  1990.000000  2000.000000  ...   \n",
            "mean      0.521500    31.987940     0.501750   140.344221     4.520500  ...   \n",
            "std       0.499662    18.136427     0.288416    35.407114     2.287837  ...   \n",
            "min       0.000000     2.000000     0.100000    80.000000     1.000000  ...   \n",
            "25%       0.000000    16.000000     0.200000   109.000000     3.000000  ...   \n",
            "50%       1.000000    32.000000     0.500000   141.000000     4.000000  ...   \n",
            "75%       1.000000    48.000000     0.800000   170.000000     7.000000  ...   \n",
            "max       1.000000    64.000000     1.000000   200.000000     8.000000  ...   \n",
            "\n",
            "         px_height     px_width          ram         sc_h         sc_w  \\\n",
            "count  2000.000000  2000.000000  1990.000000  2000.000000  2000.000000   \n",
            "mean    645.108000  1251.515500  2124.991960    12.306500     5.767000   \n",
            "std     443.780811   432.199447  1084.885362     4.213245     4.356398   \n",
            "min       0.000000   500.000000   256.000000     5.000000     0.000000   \n",
            "25%     282.750000   874.750000  1208.250000     9.000000     2.000000   \n",
            "50%     564.000000  1247.000000  2146.500000    12.000000     5.000000   \n",
            "75%     947.250000  1633.000000  3065.500000    16.000000     9.000000   \n",
            "max    1960.000000  1998.000000  3998.000000    19.000000    18.000000   \n",
            "\n",
            "         talk_time      three_g  touch_screen         wifi  price_range  \n",
            "count  2000.000000  2000.000000   2000.000000  2000.000000  2000.000000  \n",
            "mean     11.011000     0.761500      0.503000     0.507000     1.500000  \n",
            "std       5.463955     0.426273      0.500116     0.500076     1.118314  \n",
            "min       2.000000     0.000000      0.000000     0.000000     0.000000  \n",
            "25%       6.000000     1.000000      0.000000     0.000000     0.750000  \n",
            "50%      11.000000     1.000000      1.000000     1.000000     1.500000  \n",
            "75%      16.000000     1.000000      1.000000     1.000000     2.250000  \n",
            "max      20.000000     1.000000      1.000000     1.000000     3.000000  \n",
            "\n",
            "[8 rows x 21 columns]\n"
          ]
        }
      ],
      "source": [
        "# Membaca dataset dari URL\n",
        "url = \"https://raw.githubusercontent.com/isnanmulia/lecture-datasets/main/mobileprice_modified.csv\"\n",
        "df = pd.read_csv(url)\n",
        "\n",
        "# Mendapatkan daftar nama kolom (atribut)\n",
        "columns = df.columns\n",
        "\n",
        "# Membuat dua list untuk atribut prediktor dan atribut label\n",
        "predictor_attributes = []\n",
        "label_attributes = []\n",
        "\n",
        "# Mendeteksi jenis atribut dan mencatat nilai unik untuk atribut kategorikal\n",
        "for column in columns:\n",
        "    attribute_type = df[column].dtype  # Mendapatkan jenis atribut\n",
        "    unique_values = df[column].unique()  # Mendapatkan nilai unik\n",
        "\n",
        "    # Memisahkan atribut prediktor dan atribut label\n",
        "    if column != \"price_range\":  # Anda mungkin perlu menyesuaikan nama atribut label sesuai dengan dataset Anda\n",
        "        predictor_attributes.append((column, attribute_type, unique_values))\n",
        "    else:\n",
        "        label_attributes.append((column, attribute_type, unique_values))\n",
        "\n",
        "# Menampilkan informasi tentang atribut prediktor\n",
        "print(\"Atribut Prediktor:\")\n",
        "for column, attribute_type, unique_values in predictor_attributes:\n",
        "    print(f\"Nama: {column}, Jenis: {attribute_type}\")\n",
        "    if attribute_type == 'object':\n",
        "        print(f\"Nilai Unik: {', '.join(unique_values)}\")\n",
        "\n",
        "# Menampilkan informasi tentang atribut label\n",
        "print(\"\\nAtribut Label:\")\n",
        "for column, attribute_type, unique_values in label_attributes:\n",
        "    print(f\"Nama: {column}, Jenis: {attribute_type}\\n\\n\")\n",
        "    if attribute_type == 'object':\n",
        "        print(f\"Nilai Unik: {', '.join(unique_values)}\")\n",
        "\n",
        "# Menampilkan statistik deskriptif\n",
        "descriptive_stats = df.describe()\n",
        "print(descriptive_stats)"
      ]
    },
    {
      "cell_type": "markdown",
      "source": [
        "2a. Pisahkan bagian atribut prediktor dengan label data menjadi dua variabel terpisah"
      ],
      "metadata": {
        "id": "RHn56nssF3ly"
      }
    },
    {
      "cell_type": "code",
      "source": [
        "# Memisahkan atribut prediktor dari atribut label\n",
        "X = df.drop(\"price_range\", axis=1)  # Atribut prediktor (semua kolom kecuali \"price_range\")\n",
        "y = df[\"price_range\"]  # Atribut label (\"price_range\")\n",
        "\n",
        "# Menampilkan informasi tentang atribut prediktor\n",
        "print(\"Atribut Prediktor:\")\n",
        "print(X.head())  # Menampilkan lima baris pertama dari atribut prediktor\n",
        "\n",
        "# Menampilkan informasi tentang atribut label\n",
        "print(\"\\nAtribut Label:\")\n",
        "print(y.head())  # Menampilkan lima baris pertama dari atribut label"
      ],
      "metadata": {
        "colab": {
          "base_uri": "https://localhost:8080/"
        },
        "id": "iX17C_ntGBVF",
        "outputId": "271c9338-f3e6-4e2c-8a9c-dd8039fbd0fb"
      },
      "execution_count": null,
      "outputs": [
        {
          "output_type": "stream",
          "name": "stdout",
          "text": [
            "Atribut Prediktor:\n",
            "   battery_power  blue  clock_speed  dual_sim  fc  four_g  int_memory  m_dep  \\\n",
            "0          842.0     0          2.2         0   1       0         7.0    0.6   \n",
            "1         1021.0     1          0.5         1   0       1        53.0    0.7   \n",
            "2          563.0     1          0.5         1   2       1        41.0    0.9   \n",
            "3          615.0     1          2.5         0   0       0        10.0    0.8   \n",
            "4         1821.0     1          1.2         0  13       1        44.0    0.6   \n",
            "\n",
            "   mobile_wt  n_cores  pc  px_height  px_width     ram  sc_h  sc_w  talk_time  \\\n",
            "0      188.0        2   2         20       756     NaN     9     7         19   \n",
            "1      136.0        3   6        905      1988  2631.0    17     3          7   \n",
            "2      145.0        5   6       1263      1716  2603.0    11     2          9   \n",
            "3      131.0        6   9       1216      1786  2769.0    16     8         11   \n",
            "4      141.0        2  14       1208      1212  1411.0     8     2         15   \n",
            "\n",
            "   three_g  touch_screen  wifi  \n",
            "0        0             0     1  \n",
            "1        1             1     0  \n",
            "2        1             1     0  \n",
            "3        1             0     0  \n",
            "4        1             1     0  \n",
            "\n",
            "Atribut Label:\n",
            "0    1\n",
            "1    2\n",
            "2    2\n",
            "3    2\n",
            "4    1\n",
            "Name: price_range, dtype: int64\n"
          ]
        }
      ]
    },
    {
      "cell_type": "markdown",
      "source": [
        "2b. Gunakan SimpleImputer untuk menangani missing values, dengan nilai median di atribut data sebagai pengisian nilai"
      ],
      "metadata": {
        "id": "bpcWHbQKG68Y"
      }
    },
    {
      "cell_type": "code",
      "source": [
        "from sklearn.impute import SimpleImputer\n",
        "\n",
        "# Membuat instance SimpleImputer dengan strategi 'median'\n",
        "imputer = SimpleImputer(strategy='median')\n",
        "\n",
        "# Mengaplikasikan SimpleImputer pada seluruh dataset\n",
        "df_imputed = pd.DataFrame(imputer.fit_transform(df), columns=df.columns)\n"
      ],
      "metadata": {
        "id": "hvOKZQjtGoGg"
      },
      "execution_count": null,
      "outputs": []
    },
    {
      "cell_type": "markdown",
      "source": [
        "2c. Terapkan MinMaxScaller atau StandardScaler untuk mengubah nilai atribut prediktor, agar nilai dari masing masing atribut menjadi seragam"
      ],
      "metadata": {
        "id": "3653WoUnOKnt"
      }
    },
    {
      "cell_type": "code",
      "source": [
        "from sklearn.preprocessing import MinMaxScaler\n",
        "\n",
        "# Pilih atribut prediktor (semua kolom kecuali \"price_range\")\n",
        "X = df_imputed.drop(\"price_range\", axis=1)\n",
        "\n",
        "# Inisialisasi MinMaxScaler\n",
        "scaler = MinMaxScaler()\n",
        "\n",
        "# Melakukan scaling pada atribut prediktor\n",
        "X_scaled = scaler.fit_transform(X)\n",
        "\n",
        "# X_scaled adalah DataFrame yang berisi atribut prediktor yang telah di-scaling dengan MinMaxScaler"
      ],
      "metadata": {
        "id": "NpcBI_CJNtSO"
      },
      "execution_count": null,
      "outputs": []
    },
    {
      "cell_type": "markdown",
      "source": [
        "2d. Tampilkan statistik deskriptif dari atribut data sebelum dan stelah dilakukan pengisian missing values dan standarisasi"
      ],
      "metadata": {
        "id": "zYg8zeHaO9a5"
      }
    },
    {
      "cell_type": "code",
      "source": [
        "# Menggabungkan atribut prediktor yang telah di-scaling dengan atribut label\n",
        "df_scaled = pd.DataFrame(X_scaled, columns=X.columns)\n",
        "df_scaled[\"price_range\"] = df_imputed[\"price_range\"]\n",
        "\n",
        "# Menampilkan statistik deskriptif setelah pengisian missing values dan standarisasi\n",
        "print(\"\\nStatistik Deskriptif Setelah Pengisian Missing Values dan Standarisasi:\\n\\n\")\n",
        "print(df_scaled.describe())"
      ],
      "metadata": {
        "colab": {
          "base_uri": "https://localhost:8080/"
        },
        "id": "BqovGxgLOySR",
        "outputId": "33847b6a-5e99-416b-d45c-f5df60af39c6"
      },
      "execution_count": null,
      "outputs": [
        {
          "output_type": "stream",
          "name": "stdout",
          "text": [
            "\n",
            "Statistik Deskriptif Setelah Pengisian Missing Values dan Standarisasi:\n",
            "\n",
            "\n",
            "       battery_power       blue  clock_speed     dual_sim           fc  \\\n",
            "count    2000.000000  2000.0000  2000.000000  2000.000000  2000.000000   \n",
            "mean        0.492187     0.4950     0.408900     0.509500     0.226816   \n",
            "std         0.292970     0.5001     0.326402     0.500035     0.228497   \n",
            "min         0.000000     0.0000     0.000000     0.000000     0.000000   \n",
            "25%         0.234302     0.0000     0.080000     0.000000     0.052632   \n",
            "50%         0.483634     0.0000     0.400000     1.000000     0.157895   \n",
            "75%         0.743487     1.0000     0.680000     1.000000     0.368421   \n",
            "max         1.000000     1.0000     1.000000     1.000000     1.000000   \n",
            "\n",
            "            four_g   int_memory        m_dep    mobile_wt      n_cores  ...  \\\n",
            "count  2000.000000  2000.000000  2000.000000  2000.000000  2000.000000  ...   \n",
            "mean      0.521500     0.483677     0.446389     0.502896     0.502929  ...   \n",
            "std       0.499662     0.291790     0.320462     0.294321     0.326834  ...   \n",
            "min       0.000000     0.000000     0.000000     0.000000     0.000000  ...   \n",
            "25%       0.000000     0.225806     0.111111     0.241667     0.285714  ...   \n",
            "50%       1.000000     0.483871     0.444444     0.508333     0.428571  ...   \n",
            "75%       1.000000     0.741935     0.777778     0.750000     0.857143  ...   \n",
            "max       1.000000     1.000000     1.000000     1.000000     1.000000  ...   \n",
            "\n",
            "         px_height     px_width          ram         sc_h         sc_w  \\\n",
            "count  2000.000000  2000.000000  2000.000000  2000.000000  2000.000000   \n",
            "mean      0.329137     0.501679     0.499492     0.521893     0.320389   \n",
            "std       0.226419     0.288518     0.289195     0.300946     0.242022   \n",
            "min       0.000000     0.000000     0.000000     0.000000     0.000000   \n",
            "25%       0.144260     0.250167     0.255144     0.285714     0.111111   \n",
            "50%       0.287755     0.498665     0.505211     0.500000     0.277778   \n",
            "75%       0.483291     0.756342     0.749332     0.785714     0.500000   \n",
            "max       1.000000     1.000000     1.000000     1.000000     1.000000   \n",
            "\n",
            "         talk_time      three_g  touch_screen         wifi  price_range  \n",
            "count  2000.000000  2000.000000   2000.000000  2000.000000  2000.000000  \n",
            "mean      0.500611     0.761500      0.503000     0.507000     1.500000  \n",
            "std       0.303553     0.426273      0.500116     0.500076     1.118314  \n",
            "min       0.000000     0.000000      0.000000     0.000000     0.000000  \n",
            "25%       0.222222     1.000000      0.000000     0.000000     0.750000  \n",
            "50%       0.500000     1.000000      1.000000     1.000000     1.500000  \n",
            "75%       0.777778     1.000000      1.000000     1.000000     2.250000  \n",
            "max       1.000000     1.000000      1.000000     1.000000     3.000000  \n",
            "\n",
            "[8 rows x 21 columns]\n"
          ]
        }
      ]
    },
    {
      "cell_type": "markdown",
      "source": [
        "3a. Gunakan salah satu algoritma berikut untuk membangun model klasifikasi: KNN, Decision Tree, SVM (parameter yang digunakan boleh disesuaikan dengan bebas)\n",
        "\n",
        "3b. Gunakan metode holdout untuk membagi keseluruhan dataset menjadi data training dan data testing, dengan proporsi 80% data training dan 20% data testing\n",
        "\n",
        "3c. Tampilkan confusion matrix dan akurasi dan model klasifikasi"
      ],
      "metadata": {
        "id": "K_NYF3D7RT28"
      }
    },
    {
      "cell_type": "code",
      "source": [
        "from sklearn.model_selection import train_test_split\n",
        "from sklearn.tree import DecisionTreeClassifier\n",
        "from sklearn.metrics import accuracy_score, classification_report, confusion_matrix\n",
        "\n",
        "# Pemisahan atribut prediktor dan atribut label\n",
        "X = df_imputed.drop(\"price_range\", axis=1)\n",
        "y = df_imputed[\"price_range\"]\n",
        "\n",
        "# Membagi dataset menjadi data latih dan data uji\n",
        "X_train, X_test, y_train, y_test = train_test_split(X, y, test_size=0.2, random_state=42)\n",
        "\n",
        "# Inisialisasi dan melatih model Decision Tree\n",
        "model = DecisionTreeClassifier(max_depth=6)  # menyesuaikan max_depth sesuai kebutuhan\n",
        "model.fit(X_train, y_train)\n",
        "\n",
        "# Membuat prediksi pada data uji\n",
        "y_pred = model.predict(X_test)\n",
        "\n",
        "# Mengukur kinerja model\n",
        "accuracy = accuracy_score(y_test, y_pred)\n",
        "confusion = confusion_matrix(y_test, y_pred)\n",
        "classification_rep = classification_report(y_test, y_pred)\n",
        "\n",
        "# Menampilkan hasil pengukuran kinerja model\n",
        "print(f\"Akurasi: {accuracy}\")\n",
        "print(\"Confusion Matrix:\")\n",
        "print(confusion)\n",
        "print(\"Classification Report:\")\n",
        "print(classification_rep)"
      ],
      "metadata": {
        "colab": {
          "base_uri": "https://localhost:8080/"
        },
        "id": "VFoyg0WRRRfw",
        "outputId": "3464d6cf-74db-4641-d614-6801d8f77b75"
      },
      "execution_count": null,
      "outputs": [
        {
          "output_type": "stream",
          "name": "stdout",
          "text": [
            "Akurasi: 0.8025\n",
            "Confusion Matrix:\n",
            "[[89 16  0  0]\n",
            " [ 4 79  8  0]\n",
            " [ 0 20 63  9]\n",
            " [ 0  0 22 90]]\n",
            "Classification Report:\n",
            "              precision    recall  f1-score   support\n",
            "\n",
            "         0.0       0.96      0.85      0.90       105\n",
            "         1.0       0.69      0.87      0.77        91\n",
            "         2.0       0.68      0.68      0.68        92\n",
            "         3.0       0.91      0.80      0.85       112\n",
            "\n",
            "    accuracy                           0.80       400\n",
            "   macro avg       0.81      0.80      0.80       400\n",
            "weighted avg       0.82      0.80      0.81       400\n",
            "\n"
          ]
        }
      ]
    },
    {
      "cell_type": "markdown",
      "source": [
        "4a. Membangun model clustering berdasarkan dataset yang telah dilakukan praproses data. Gunakan salah satu algoritma berikut untuk melakukan clustering: K-Means, DBSCAN, Agglomerative clustering (parameter yang digunakan boleh disesuaikan dengan bebas)\n",
        "\n",
        "4b. Tampilkan silhouette score dari model clustering"
      ],
      "metadata": {
        "id": "U_UkQmCTVDDS"
      }
    },
    {
      "cell_type": "code",
      "source": [
        "from sklearn.cluster import AgglomerativeClustering\n",
        "from sklearn.metrics import silhouette_score\n",
        "\n",
        "model = AgglomerativeClustering(n_clusters=3)  # jumlah cluster sesuai kebutuhan\n",
        "model.fit(X_scaled)\n",
        "\n",
        "# Menghitung Silhouette Score\n",
        "labels = model.labels_\n",
        "silhouette_avg = silhouette_score(X_scaled, labels)\n",
        "# Menampilkan Silhouette Score\n",
        "print(f\"Silhouette Score: {silhouette_avg}\")"
      ],
      "metadata": {
        "colab": {
          "base_uri": "https://localhost:8080/"
        },
        "id": "mpKnBPJFWijT",
        "outputId": "20299677-a445-4e6a-e4d4-1de59fe35e58"
      },
      "execution_count": null,
      "outputs": [
        {
          "output_type": "stream",
          "name": "stdout",
          "text": [
            "Silhouette Score: 0.07633502308359268\n"
          ]
        }
      ]
    }
  ]
}